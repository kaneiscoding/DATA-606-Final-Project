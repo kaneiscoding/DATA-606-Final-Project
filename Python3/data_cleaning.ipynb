{
 "cells": [
  {
   "cell_type": "code",
   "execution_count": 1,
   "metadata": {},
   "outputs": [],
   "source": [
    "import pandas as pd\n",
    "import os"
   ]
  },
  {
   "cell_type": "code",
   "execution_count": 6,
   "metadata": {},
   "outputs": [],
   "source": [
    "# Set the base directory, __file__ is a special Python variable that contains the path to the script being executed.\n",
    "base_dir = os.path.dirname(os.path.abspath('.'))\n",
    "# Join the base directory with the subdirectory containing the CSV files\n",
    "csv_dir = os.path.join(base_dir, 'atp_dataset')"
   ]
  },
  {
   "cell_type": "code",
   "execution_count": 7,
   "metadata": {},
   "outputs": [
    {
     "ename": "FileNotFoundError",
     "evalue": "[WinError 3] The system cannot find the path specified: 'c:\\\\Users\\\\jorda\\\\Documents\\\\MDSA\\\\data_606\\\\Project\\\\github_repo\\\\atp_dataset'",
     "output_type": "error",
     "traceback": [
      "\u001b[1;31m---------------------------------------------------------------------------\u001b[0m",
      "\u001b[1;31mFileNotFoundError\u001b[0m                         Traceback (most recent call last)",
      "Cell \u001b[1;32mIn[7], line 3\u001b[0m\n\u001b[0;32m      1\u001b[0m \u001b[39m# Get list of all professional atp mens singles csv files\u001b[39;00m\n\u001b[0;32m      2\u001b[0m new_var \u001b[39m=\u001b[39m csv_dir\n\u001b[1;32m----> 3\u001b[0m singles_files \u001b[39m=\u001b[39m [f \u001b[39mfor\u001b[39;00m f \u001b[39min\u001b[39;00m os\u001b[39m.\u001b[39;49mlistdir(new_var) \u001b[39mif\u001b[39;00m \u001b[39m'\u001b[39m\u001b[39matp_matches_1\u001b[39m\u001b[39m'\u001b[39m \u001b[39min\u001b[39;00m f \u001b[39mor\u001b[39;00m \u001b[39m'\u001b[39m\u001b[39matp_matches_2\u001b[39m\u001b[39m'\u001b[39m \u001b[39min\u001b[39;00m f]\n\u001b[0;32m      5\u001b[0m \u001b[39m# Iterate through and rename the list of CSV files to improve referencing later\u001b[39;00m\n\u001b[0;32m      6\u001b[0m \u001b[39mfor\u001b[39;00m file \u001b[39min\u001b[39;00m singles_files:\n",
      "\u001b[1;31mFileNotFoundError\u001b[0m: [WinError 3] The system cannot find the path specified: 'c:\\\\Users\\\\jorda\\\\Documents\\\\MDSA\\\\data_606\\\\Project\\\\github_repo\\\\atp_dataset'"
     ]
    }
   ],
   "source": [
    "# Get list of all professional atp mens singles csv files\n",
    "new_var = csv_dir\n",
    "singles_files = [f for f in os.listdir(new_var) if 'atp_matches_1' in f or 'atp_matches_2' in f]\n",
    "\n",
    "# Iterate through and rename the list of CSV files to improve referencing later\n",
    "for file in singles_files:\n",
    "    old_file_path = os.path.join(csv_dir, file)\n",
    "    new_file_path = os.path.join(csv_dir, file.replace('atp_matches', 'atp_singles_matches'))\n",
    "    # Rename the file\n",
    "    os.rename(old_file_path, new_file_path)"
   ]
  },
  {
   "cell_type": "code",
   "execution_count": null,
   "metadata": {},
   "outputs": [],
   "source": [
    "# Select filters on data\n",
    "match_type = ['']               #[singles, doubles, futures, challenges]\n",
    "start_year = 2010\n",
    "end_year = 2015\n",
    "\n",
    "# Select for mens singles\n",
    "if match_type = ['singles']:\n",
    "    match_type = \n",
    "\n",
    "# Get a list of all the CSV files in the subdirectory\n",
    "all_csv_files = [f for f in os.listdir(csv_dir) if f.endswith('.csv')]\n",
    "csv_files = [f for f in all_csv_files if match_type in f and start_year <= int(f[-8:-4]) <= end_year]\n",
    "\n",
    "# Iterate through the list of CSV files\n",
    "for file in csv_files:\n",
    "    file_path = os.path.join(csv_dir, file)\n",
    "    # Do something with the file (e.g. read it into a Pandas DataFrame)"
   ]
  }
 ],
 "metadata": {
  "kernelspec": {
   "display_name": "myenv",
   "language": "python",
   "name": "python3"
  },
  "language_info": {
   "codemirror_mode": {
    "name": "ipython",
    "version": 3
   },
   "file_extension": ".py",
   "mimetype": "text/x-python",
   "name": "python",
   "nbconvert_exporter": "python",
   "pygments_lexer": "ipython3",
   "version": "3.9.15"
  },
  "orig_nbformat": 4,
  "vscode": {
   "interpreter": {
    "hash": "a5b213188c989d1a057b5d4f60c905beefb52d758bedffaeb913f547b3c681e2"
   }
  }
 },
 "nbformat": 4,
 "nbformat_minor": 2
}
