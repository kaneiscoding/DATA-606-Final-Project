{
 "cells": [
  {
   "cell_type": "code",
   "execution_count": 1,
   "metadata": {},
   "outputs": [],
   "source": [
    "import pandas as pd\n",
    "import os\n",
    "import csv"
   ]
  },
  {
   "cell_type": "code",
   "execution_count": 2,
   "metadata": {},
   "outputs": [],
   "source": [
    "# Set the base directory, __file__ is a special Python variable that contains the path to the script being executed.\n",
    "base_dir = os.path.dirname(os.path.abspath('.'))\n",
    "# Join the base directory with the subdirectory containing the CSV files\n",
    "csv_dir = os.path.join(base_dir, 'atp_dataset')"
   ]
  },
  {
   "attachments": {},
   "cell_type": "markdown",
   "metadata": {},
   "source": [
    "#### Renames all atp singles matches .csv's to contain 'singles' that may be referenced later\n",
    "Do not run again, saved only for reference."
   ]
  },
  {
   "cell_type": "code",
   "execution_count": 3,
   "metadata": {},
   "outputs": [],
   "source": [
    "# Get list of all professional atp mens singles csv files\n",
    "#new_var = csv_dir\n",
    "#singles_files = [f for f in os.listdir(new_var) if 'atp_matches_1' in f or 'atp_matches_2' in f]\n",
    "\n",
    "# Iterate through and rename the list of CSV files to improve referencing later\n",
    "#for file in singles_files:\n",
    "#    old_file_path = os.path.join(csv_dir, file)\n",
    "#    new_file_path = os.path.join(csv_dir, file.replace('atp_matches', 'atp_matches_singles'))\n",
    "    # Rename the file\n",
    "#    os.rename(old_file_path, new_file_path)"
   ]
  },
  {
   "attachments": {},
   "cell_type": "markdown",
   "metadata": {},
   "source": [
    "#### Select data filters for .csv selection\n",
    "Match types [Years Available]: \n",
    "* Singles [1968-2023]\n",
    "* Doubles [2000-2020]\n",
    "* Futures [1991-2023]\n",
    "* Challengers [1978-2023]"
   ]
  },
  {
   "cell_type": "code",
   "execution_count": 4,
   "metadata": {},
   "outputs": [],
   "source": [
    "# Select filters on data\n",
    "match_type = 'SinGles'          #[singles, doubles, futures, challenges]\n",
    "start_year = 2000\n",
    "end_year = 2022\n",
    "\n",
    "# Get a list of all the CSV files in the subdirectory\n",
    "all_csv_files = [f for f in os.listdir(csv_dir) if f.endswith('.csv')]\n",
    "csv_files = [f for f in all_csv_files if match_type.lower() in f and start_year <= int(f[-8:-4]) <= end_year]\n",
    "\n",
    "# Creates dictionary of dataframes from each filtered csv file \n",
    "df_dict = {}\n",
    "df = pd.DataFrame\n",
    "for file in csv_files:\n",
    "    name = file.replace('.csv','')\n",
    "    df_dict[name] = pd.read_csv(os.path.join(csv_dir, file))\n",
    "\n",
    "# Display file names that have been selected\n",
    "df_dict.keys()\n",
    "\n",
    "# Append dictionary items to single dataframe\n",
    "for key, value in df_dict.items():\n",
    "    app_df = pd.DataFrame(value)"
   ]
  },
  {
   "attachments": {},
   "cell_type": "markdown",
   "metadata": {},
   "source": [
    "#### Extract CSV"
   ]
  },
  {
   "cell_type": "code",
   "execution_count": 10,
   "metadata": {},
   "outputs": [],
   "source": [
    "# Specify output csv filename, dont include .csv\n",
    "csv_name = ''\n",
    "app_df.to_csv(os.path.join(base_dir, 'generated_csv/' + csv_name + '.csv'))"
   ]
  }
 ],
 "metadata": {
  "kernelspec": {
   "display_name": "myenv",
   "language": "python",
   "name": "python3"
  },
  "language_info": {
   "codemirror_mode": {
    "name": "ipython",
    "version": 3
   },
   "file_extension": ".py",
   "mimetype": "text/x-python",
   "name": "python",
   "nbconvert_exporter": "python",
   "pygments_lexer": "ipython3",
   "version": "3.9.15"
  },
  "orig_nbformat": 4,
  "vscode": {
   "interpreter": {
    "hash": "a5b213188c989d1a057b5d4f60c905beefb52d758bedffaeb913f547b3c681e2"
   }
  }
 },
 "nbformat": 4,
 "nbformat_minor": 2
}
